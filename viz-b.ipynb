{
 "cells": [
  {
   "cell_type": "code",
   "execution_count": 1,
   "metadata": {},
   "outputs": [
    {
     "name": "stdout",
     "output_type": "stream",
     "text": [
      "Data Visualization\n"
     ]
    }
   ],
   "source": [
    "print(\"Data Visualization\")\n"
   ]
  },
  {
   "cell_type": "markdown",
   "metadata": {},
   "source": [
    "# Data Visualization\n"
   ]
  },
  {
   "cell_type": "code",
   "execution_count": 2,
   "metadata": {},
   "outputs": [],
   "source": [
    "import pandas as pd \n",
    "%matplotlib inline\n",
    "import matplotlib.pyplot as plt"
   ]
  },
  {
   "cell_type": "markdown",
   "metadata": {},
   "source": [
    "## Short Description\n",
    "- Here you are a dataset containing the top 100 coins by their total volume across all markets during 9th January of 2021. The prices are in USD dollars.\n",
    "\n",
    "## Content\n",
    "- This dataset was obtained thanks to cryptocompare API. You can see that it contains data about the top 100 coins by volume market during moreover 2020 (it contains a little bit of 2019 and 2021 years also). The dataset has 10 columns:\n",
    "\n",
    "1. **datetime**: the date in which the coin had that price and volume.\n",
    "\n",
    "2. **low**: the lowwst price of that day in USD dollars.\n",
    "\n",
    "3. **high**: the highest price of that day in USD dollars.\n",
    "\n",
    "4. **open**: the price when that day started in the markets in USD dollars.\n",
    "\n",
    "5. **close**: the price when that day closed in the markets in USD dollars.\n",
    "\n",
    "6. **volumefrom**: the quantity of that coin that was traded in that day.\n",
    "\n",
    "7. **volumeto**: the quantity of that coin that was traded in that day in USD dollars.\n",
    "\n",
    "8. **cryptocurrency**: the symbol of the cryptocurrency.\n",
    "\n",
    "9. **image_url**: the image URL containing the cryptocurrency logo.\n",
    "\n",
    "10. **coin_name**: the full name of the cryptocurrency.\n"
   ]
  },
  {
   "cell_type": "markdown",
   "metadata": {},
   "source": [
    "## Load the data "
   ]
  },
  {
   "cell_type": "code",
   "execution_count": 3,
   "metadata": {},
   "outputs": [
    {
     "data": {
      "text/html": [
       "<div>\n",
       "<style scoped>\n",
       "    .dataframe tbody tr th:only-of-type {\n",
       "        vertical-align: middle;\n",
       "    }\n",
       "\n",
       "    .dataframe tbody tr th {\n",
       "        vertical-align: top;\n",
       "    }\n",
       "\n",
       "    .dataframe thead th {\n",
       "        text-align: right;\n",
       "    }\n",
       "</style>\n",
       "<table border=\"1\" class=\"dataframe\">\n",
       "  <thead>\n",
       "    <tr style=\"text-align: right;\">\n",
       "      <th></th>\n",
       "      <th>datetime</th>\n",
       "      <th>low</th>\n",
       "      <th>high</th>\n",
       "      <th>open</th>\n",
       "      <th>close</th>\n",
       "      <th>volumefrom</th>\n",
       "      <th>volumeto</th>\n",
       "      <th>cryptocurrency</th>\n",
       "      <th>image_url</th>\n",
       "      <th>coin_name</th>\n",
       "    </tr>\n",
       "  </thead>\n",
       "  <tbody>\n",
       "    <tr>\n",
       "      <th>0</th>\n",
       "      <td>2019-12-06</td>\n",
       "      <td>7323.86</td>\n",
       "      <td>7607.79</td>\n",
       "      <td>7406.75</td>\n",
       "      <td>7558.58</td>\n",
       "      <td>28169.83</td>\n",
       "      <td>2.098513e+08</td>\n",
       "      <td>BTC</td>\n",
       "      <td>https://www.cryptocompare.com/media/19633/btc.png</td>\n",
       "      <td>Bitcoin</td>\n",
       "    </tr>\n",
       "    <tr>\n",
       "      <th>1</th>\n",
       "      <td>2019-12-07</td>\n",
       "      <td>7503.10</td>\n",
       "      <td>7640.51</td>\n",
       "      <td>7558.58</td>\n",
       "      <td>7514.86</td>\n",
       "      <td>14093.87</td>\n",
       "      <td>1.065722e+08</td>\n",
       "      <td>BTC</td>\n",
       "      <td>https://www.cryptocompare.com/media/19633/btc.png</td>\n",
       "      <td>Bitcoin</td>\n",
       "    </tr>\n",
       "    <tr>\n",
       "      <th>2</th>\n",
       "      <td>2019-12-08</td>\n",
       "      <td>7414.51</td>\n",
       "      <td>7594.80</td>\n",
       "      <td>7514.86</td>\n",
       "      <td>7539.70</td>\n",
       "      <td>15949.09</td>\n",
       "      <td>1.200003e+08</td>\n",
       "      <td>BTC</td>\n",
       "      <td>https://www.cryptocompare.com/media/19633/btc.png</td>\n",
       "      <td>Bitcoin</td>\n",
       "    </tr>\n",
       "    <tr>\n",
       "      <th>3</th>\n",
       "      <td>2019-12-09</td>\n",
       "      <td>7296.42</td>\n",
       "      <td>7667.04</td>\n",
       "      <td>7539.70</td>\n",
       "      <td>7350.62</td>\n",
       "      <td>35089.72</td>\n",
       "      <td>2.621613e+08</td>\n",
       "      <td>BTC</td>\n",
       "      <td>https://www.cryptocompare.com/media/19633/btc.png</td>\n",
       "      <td>Bitcoin</td>\n",
       "    </tr>\n",
       "    <tr>\n",
       "      <th>4</th>\n",
       "      <td>2019-12-10</td>\n",
       "      <td>7176.42</td>\n",
       "      <td>7403.64</td>\n",
       "      <td>7350.62</td>\n",
       "      <td>7233.84</td>\n",
       "      <td>23348.59</td>\n",
       "      <td>1.704194e+08</td>\n",
       "      <td>BTC</td>\n",
       "      <td>https://www.cryptocompare.com/media/19633/btc.png</td>\n",
       "      <td>Bitcoin</td>\n",
       "    </tr>\n",
       "  </tbody>\n",
       "</table>\n",
       "</div>"
      ],
      "text/plain": [
       "     datetime      low     high     open    close  volumefrom      volumeto  \\\n",
       "0  2019-12-06  7323.86  7607.79  7406.75  7558.58    28169.83  2.098513e+08   \n",
       "1  2019-12-07  7503.10  7640.51  7558.58  7514.86    14093.87  1.065722e+08   \n",
       "2  2019-12-08  7414.51  7594.80  7514.86  7539.70    15949.09  1.200003e+08   \n",
       "3  2019-12-09  7296.42  7667.04  7539.70  7350.62    35089.72  2.621613e+08   \n",
       "4  2019-12-10  7176.42  7403.64  7350.62  7233.84    23348.59  1.704194e+08   \n",
       "\n",
       "  cryptocurrency                                          image_url coin_name  \n",
       "0            BTC  https://www.cryptocompare.com/media/19633/btc.png   Bitcoin  \n",
       "1            BTC  https://www.cryptocompare.com/media/19633/btc.png   Bitcoin  \n",
       "2            BTC  https://www.cryptocompare.com/media/19633/btc.png   Bitcoin  \n",
       "3            BTC  https://www.cryptocompare.com/media/19633/btc.png   Bitcoin  \n",
       "4            BTC  https://www.cryptocompare.com/media/19633/btc.png   Bitcoin  "
      ]
     },
     "execution_count": 3,
     "metadata": {},
     "output_type": "execute_result"
    }
   ],
   "source": [
    "digital_coins = pd.read_csv(\"Cryptocurrencies_to_USD_default_day_2021-01-09.csv\")\n",
    "digital_coins.head()\n"
   ]
  },
  {
   "cell_type": "code",
   "execution_count": 4,
   "metadata": {},
   "outputs": [
    {
     "data": {
      "text/html": [
       "<div>\n",
       "<style scoped>\n",
       "    .dataframe tbody tr th:only-of-type {\n",
       "        vertical-align: middle;\n",
       "    }\n",
       "\n",
       "    .dataframe tbody tr th {\n",
       "        vertical-align: top;\n",
       "    }\n",
       "\n",
       "    .dataframe thead th {\n",
       "        text-align: right;\n",
       "    }\n",
       "</style>\n",
       "<table border=\"1\" class=\"dataframe\">\n",
       "  <thead>\n",
       "    <tr style=\"text-align: right;\">\n",
       "      <th></th>\n",
       "      <th>low</th>\n",
       "      <th>high</th>\n",
       "      <th>open</th>\n",
       "      <th>close</th>\n",
       "      <th>volumefrom</th>\n",
       "      <th>volumeto</th>\n",
       "    </tr>\n",
       "  </thead>\n",
       "  <tbody>\n",
       "    <tr>\n",
       "      <th>count</th>\n",
       "      <td>40100.000000</td>\n",
       "      <td>40100.000000</td>\n",
       "      <td>40100.000000</td>\n",
       "      <td>40100.000000</td>\n",
       "      <td>4.010000e+04</td>\n",
       "      <td>4.010000e+04</td>\n",
       "    </tr>\n",
       "    <tr>\n",
       "      <th>mean</th>\n",
       "      <td>314.118283</td>\n",
       "      <td>345.155452</td>\n",
       "      <td>325.662223</td>\n",
       "      <td>327.938645</td>\n",
       "      <td>1.926498e+07</td>\n",
       "      <td>1.625537e+07</td>\n",
       "    </tr>\n",
       "    <tr>\n",
       "      <th>std</th>\n",
       "      <td>2141.570521</td>\n",
       "      <td>2451.924949</td>\n",
       "      <td>2235.218938</td>\n",
       "      <td>2259.217331</td>\n",
       "      <td>1.130234e+08</td>\n",
       "      <td>1.002620e+08</td>\n",
       "    </tr>\n",
       "    <tr>\n",
       "      <th>min</th>\n",
       "      <td>0.000000</td>\n",
       "      <td>0.000000</td>\n",
       "      <td>0.000000</td>\n",
       "      <td>0.000000</td>\n",
       "      <td>0.000000e+00</td>\n",
       "      <td>0.000000e+00</td>\n",
       "    </tr>\n",
       "    <tr>\n",
       "      <th>25%</th>\n",
       "      <td>0.025938</td>\n",
       "      <td>0.028100</td>\n",
       "      <td>0.026840</td>\n",
       "      <td>0.026898</td>\n",
       "      <td>5.679118e+04</td>\n",
       "      <td>3.266953e+04</td>\n",
       "    </tr>\n",
       "    <tr>\n",
       "      <th>50%</th>\n",
       "      <td>0.320300</td>\n",
       "      <td>0.362500</td>\n",
       "      <td>0.339000</td>\n",
       "      <td>0.340550</td>\n",
       "      <td>5.767831e+05</td>\n",
       "      <td>4.556330e+05</td>\n",
       "    </tr>\n",
       "    <tr>\n",
       "      <th>75%</th>\n",
       "      <td>3.444250</td>\n",
       "      <td>3.806000</td>\n",
       "      <td>3.608250</td>\n",
       "      <td>3.618250</td>\n",
       "      <td>4.348087e+06</td>\n",
       "      <td>3.642490e+06</td>\n",
       "    </tr>\n",
       "    <tr>\n",
       "      <th>max</th>\n",
       "      <td>40526.520000</td>\n",
       "      <td>109332.600000</td>\n",
       "      <td>43265.170000</td>\n",
       "      <td>43265.170000</td>\n",
       "      <td>1.097729e+10</td>\n",
       "      <td>4.753170e+09</td>\n",
       "    </tr>\n",
       "  </tbody>\n",
       "</table>\n",
       "</div>"
      ],
      "text/plain": [
       "                low           high          open         close    volumefrom  \\\n",
       "count  40100.000000   40100.000000  40100.000000  40100.000000  4.010000e+04   \n",
       "mean     314.118283     345.155452    325.662223    327.938645  1.926498e+07   \n",
       "std     2141.570521    2451.924949   2235.218938   2259.217331  1.130234e+08   \n",
       "min        0.000000       0.000000      0.000000      0.000000  0.000000e+00   \n",
       "25%        0.025938       0.028100      0.026840      0.026898  5.679118e+04   \n",
       "50%        0.320300       0.362500      0.339000      0.340550  5.767831e+05   \n",
       "75%        3.444250       3.806000      3.608250      3.618250  4.348087e+06   \n",
       "max    40526.520000  109332.600000  43265.170000  43265.170000  1.097729e+10   \n",
       "\n",
       "           volumeto  \n",
       "count  4.010000e+04  \n",
       "mean   1.625537e+07  \n",
       "std    1.002620e+08  \n",
       "min    0.000000e+00  \n",
       "25%    3.266953e+04  \n",
       "50%    4.556330e+05  \n",
       "75%    3.642490e+06  \n",
       "max    4.753170e+09  "
      ]
     },
     "execution_count": 4,
     "metadata": {},
     "output_type": "execute_result"
    }
   ],
   "source": [
    "digital_coins.describe()"
   ]
  },
  {
   "cell_type": "code",
   "execution_count": 5,
   "metadata": {},
   "outputs": [
    {
     "name": "stdout",
     "output_type": "stream",
     "text": [
      "<class 'pandas.core.frame.DataFrame'>\n",
      "RangeIndex: 40100 entries, 0 to 40099\n",
      "Data columns (total 10 columns):\n",
      " #   Column          Non-Null Count  Dtype  \n",
      "---  ------          --------------  -----  \n",
      " 0   datetime        40100 non-null  object \n",
      " 1   low             40100 non-null  float64\n",
      " 2   high            40100 non-null  float64\n",
      " 3   open            40100 non-null  float64\n",
      " 4   close           40100 non-null  float64\n",
      " 5   volumefrom      40100 non-null  float64\n",
      " 6   volumeto        40100 non-null  float64\n",
      " 7   cryptocurrency  40100 non-null  object \n",
      " 8   image_url       40100 non-null  object \n",
      " 9   coin_name       40100 non-null  object \n",
      "dtypes: float64(6), object(4)\n",
      "memory usage: 3.1+ MB\n"
     ]
    }
   ],
   "source": [
    "digital_coins.info()"
   ]
  },
  {
   "cell_type": "code",
   "execution_count": 6,
   "metadata": {},
   "outputs": [
    {
     "data": {
      "text/html": [
       "<div>\n",
       "<style scoped>\n",
       "    .dataframe tbody tr th:only-of-type {\n",
       "        vertical-align: middle;\n",
       "    }\n",
       "\n",
       "    .dataframe tbody tr th {\n",
       "        vertical-align: top;\n",
       "    }\n",
       "\n",
       "    .dataframe thead th {\n",
       "        text-align: right;\n",
       "    }\n",
       "</style>\n",
       "<table border=\"1\" class=\"dataframe\">\n",
       "  <thead>\n",
       "    <tr style=\"text-align: right;\">\n",
       "      <th></th>\n",
       "      <th>low</th>\n",
       "      <th>high</th>\n",
       "      <th>open</th>\n",
       "      <th>close</th>\n",
       "      <th>volumefrom</th>\n",
       "      <th>volumeto</th>\n",
       "    </tr>\n",
       "  </thead>\n",
       "  <tbody>\n",
       "    <tr>\n",
       "      <th>low</th>\n",
       "      <td>1.000000</td>\n",
       "      <td>0.966009</td>\n",
       "      <td>0.997889</td>\n",
       "      <td>0.997938</td>\n",
       "      <td>-0.024938</td>\n",
       "      <td>0.397636</td>\n",
       "    </tr>\n",
       "    <tr>\n",
       "      <th>high</th>\n",
       "      <td>0.966009</td>\n",
       "      <td>1.000000</td>\n",
       "      <td>0.967648</td>\n",
       "      <td>0.969237</td>\n",
       "      <td>-0.023933</td>\n",
       "      <td>0.377322</td>\n",
       "    </tr>\n",
       "    <tr>\n",
       "      <th>open</th>\n",
       "      <td>0.997889</td>\n",
       "      <td>0.967648</td>\n",
       "      <td>1.000000</td>\n",
       "      <td>0.997178</td>\n",
       "      <td>-0.024771</td>\n",
       "      <td>0.395032</td>\n",
       "    </tr>\n",
       "    <tr>\n",
       "      <th>close</th>\n",
       "      <td>0.997938</td>\n",
       "      <td>0.969237</td>\n",
       "      <td>0.997178</td>\n",
       "      <td>1.000000</td>\n",
       "      <td>-0.024679</td>\n",
       "      <td>0.398685</td>\n",
       "    </tr>\n",
       "    <tr>\n",
       "      <th>volumefrom</th>\n",
       "      <td>-0.024938</td>\n",
       "      <td>-0.023933</td>\n",
       "      <td>-0.024771</td>\n",
       "      <td>-0.024679</td>\n",
       "      <td>1.000000</td>\n",
       "      <td>0.070092</td>\n",
       "    </tr>\n",
       "    <tr>\n",
       "      <th>volumeto</th>\n",
       "      <td>0.397636</td>\n",
       "      <td>0.377322</td>\n",
       "      <td>0.395032</td>\n",
       "      <td>0.398685</td>\n",
       "      <td>0.070092</td>\n",
       "      <td>1.000000</td>\n",
       "    </tr>\n",
       "  </tbody>\n",
       "</table>\n",
       "</div>"
      ],
      "text/plain": [
       "                 low      high      open     close  volumefrom  volumeto\n",
       "low         1.000000  0.966009  0.997889  0.997938   -0.024938  0.397636\n",
       "high        0.966009  1.000000  0.967648  0.969237   -0.023933  0.377322\n",
       "open        0.997889  0.967648  1.000000  0.997178   -0.024771  0.395032\n",
       "close       0.997938  0.969237  0.997178  1.000000   -0.024679  0.398685\n",
       "volumefrom -0.024938 -0.023933 -0.024771 -0.024679    1.000000  0.070092\n",
       "volumeto    0.397636  0.377322  0.395032  0.398685    0.070092  1.000000"
      ]
     },
     "execution_count": 6,
     "metadata": {},
     "output_type": "execute_result"
    }
   ],
   "source": [
    "digital_coins.corr()"
   ]
  },
  {
   "cell_type": "code",
   "execution_count": 7,
   "metadata": {},
   "outputs": [],
   "source": [
    "import seaborn as sns\n"
   ]
  },
  {
   "cell_type": "markdown",
   "metadata": {},
   "source": [
    "## rate & type of digitalcoins in the dataset"
   ]
  },
  {
   "cell_type": "code",
   "execution_count": 8,
   "metadata": {},
   "outputs": [
    {
     "data": {
      "text/plain": [
       "<AxesSubplot:xlabel='count', ylabel='coin_name'>"
      ]
     },
     "execution_count": 8,
     "metadata": {},
     "output_type": "execute_result"
    },
    {
     "data": {
      "image/png": "[encoded data removed]",
      "text/plain": [
       "<Figure size 432x288 with 1 Axes>"
      ]
     },
     "metadata": {},
     "output_type": "display_data"
    }
   ],
   "source": [
    "digital_coins = digital_coins.iloc[:5000]\n",
    "sns.set()\n",
    "sns.countplot(data=digital_coins, y='coin_name')\n"
   ]
  },
  {
   "cell_type": "markdown",
   "metadata": {},
   "source": [
    "## Bitcoin maxvolume frome 06/12/2019 to 04/1/2020"
   ]
  },
  {
   "cell_type": "code",
   "execution_count": 9,
   "metadata": {},
   "outputs": [
    {
     "data": {
      "text/plain": [
       "<AxesSubplot:xlabel='volumeto', ylabel='datetime'>"
      ]
     },
     "execution_count": 9,
     "metadata": {},
     "output_type": "execute_result"
    },
    {
     "data": {
      "image/png": "[encoded data removed]",
      "text/plain": [
       "<Figure size 432x288 with 1 Axes>"
      ]
     },
     "metadata": {},
     "output_type": "display_data"
    }
   ],
   "source": [
    "Bitcoin = digital_coins[digital_coins[\"coin_name\"]== \"Bitcoin\"]\n",
    "Bitcoin = Bitcoin.iloc[:15]\n",
    "sns.barplot(data=Bitcoin, y=\"datetime\", x=\"volumeto\")\n"
   ]
  },
  {
   "cell_type": "code",
   "execution_count": 10,
   "metadata": {},
   "outputs": [
    {
     "data": {
      "text/plain": [
       "<AxesSubplot:xlabel='volumeto', ylabel='datetime'>"
      ]
     },
     "execution_count": 10,
     "metadata": {},
     "output_type": "execute_result"
    },
    {
     "data": {
      "image/png": "[encoded data removed]",
      "text/plain": [
       "<Figure size 432x288 with 1 Axes>"
      ]
     },
     "metadata": {},
     "output_type": "display_data"
    }
   ],
   "source": [
    "Bitcoin = digital_coins[digital_coins[\"coin_name\"] == \"Bitcoin\"]\n",
    "Bitcoin = Bitcoin.iloc[15:30]\n",
    "sns.barplot(data=Bitcoin, y=\"datetime\", x=\"volumeto\")\n"
   ]
  },
  {
   "cell_type": "markdown",
   "metadata": {},
   "source": [
    "## The relationship of the difference between the initial value and the final value of Bitcoin depending on a specific period of time"
   ]
  },
  {
   "cell_type": "code",
   "execution_count": 11,
   "metadata": {},
   "outputs": [
    {
     "data": {
      "text/plain": [
       "<AxesSubplot:xlabel='volumefrom', ylabel='volumeto'>"
      ]
     },
     "execution_count": 11,
     "metadata": {},
     "output_type": "execute_result"
    },
    {
     "data": {
      "image/png": "[encoded data removed]",
      "text/plain": [
       "<Figure size 432x288 with 1 Axes>"
      ]
     },
     "metadata": {},
     "output_type": "display_data"
    }
   ],
   "source": [
    "Bitcoin = Bitcoin.head()\n",
    "sns.barplot(data=Bitcoin, x=\"volumefrom\", y=\"volumeto\")\n"
   ]
  },
  {
   "cell_type": "code",
   "execution_count": 12,
   "metadata": {},
   "outputs": [
    {
     "data": {
      "text/plain": [
       "<seaborn.axisgrid.FacetGrid at 0x7f8aaa9381f0>"
      ]
     },
     "execution_count": 12,
     "metadata": {},
     "output_type": "execute_result"
    },
    {
     "data": {
      "image/png": "[encoded data removed]",
      "text/plain": [
       "<Figure size 463.225x360 with 1 Axes>"
      ]
     },
     "metadata": {},
     "output_type": "display_data"
    }
   ],
   "source": [
    "sns.relplot(data=Bitcoin, x=\"volumefrom\", y=\"volumeto\",  hue=\"datetime\")\n"
   ]
  },
  {
   "cell_type": "code",
   "execution_count": 13,
   "metadata": {},
   "outputs": [
    {
     "data": {
      "text/plain": [
       "<seaborn.axisgrid.FacetGrid at 0x7f8aaa8aaf70>"
      ]
     },
     "execution_count": 13,
     "metadata": {},
     "output_type": "execute_result"
    },
    {
     "data": {
      "image/png": "[encoded data removed]",
      "text/plain": [
       "<Figure size 360x360 with 1 Axes>"
      ]
     },
     "metadata": {},
     "output_type": "display_data"
    }
   ],
   "source": [
    "sns.lmplot(data=Bitcoin, x=\"volumefrom\", y=\"volumeto\" )\n"
   ]
  },
  {
   "cell_type": "markdown",
   "metadata": {},
   "source": [
    "## The total value of Bitcoin late and early each month is generally in critical and unstable states.\n",
    "## Therefore, artificial intelligence cannot correctly predict stock rates in these periods"
   ]
  }
 ],
 "metadata": {
  "interpreter": {
   "hash": "993821a97a29967f5e6dcb3c8ed2f4fa7c1d63e04395412de9372a822ab94e52"
  },
  "kernelspec": {
   "display_name": "Python 3.9.7 64-bit ('.venv': poetry)",
   "name": "python3"
  },
  "language_info": {
   "codemirror_mode": {
    "name": "ipython",
    "version": 3
   },
   "file_extension": ".py",
   "mimetype": "text/x-python",
   "name": "python",
   "nbconvert_exporter": "python",
   "pygments_lexer": "ipython3",
   "version": "3.9.7"
  },
  "orig_nbformat": 4
 },
 "nbformat": 4,
 "nbformat_minor": 2
}
